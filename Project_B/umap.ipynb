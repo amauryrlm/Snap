{
 "cells": [
  {
   "cell_type": "code",
   "execution_count": 15,
   "metadata": {},
   "outputs": [],
   "source": [
    "import re\n",
    "import numpy as np\n",
    "from sklearn.datasets import load_digits\n",
    "from sklearn.model_selection import train_test_split\n",
    "from sklearn.preprocessing import StandardScaler\n",
    "import matplotlib.pyplot as plt\n",
    "import seaborn as sns\n",
    "import pandas as pd\n",
    "plt.style.use(\"default\")"
   ]
  },
  {
   "cell_type": "markdown",
   "metadata": {},
   "source": [
    "Parsing txt --> dataFrame"
   ]
  },
  {
   "cell_type": "code",
   "execution_count": 3,
   "metadata": {},
   "outputs": [],
   "source": [
    "attributeNames={\n",
    "    \"hand\":[\"hand_l\"],\n",
    "    \"thumb\":[\"thumb_01_l\",\"thumb_02_l\",\"thumb_03_l\",\"thumb_end_l\"],\n",
    "    \"index\":[\"index_01_l\",\"index_02_l\",\"index_03_l\",\"index_end_l\"],\n",
    "    \"middle\":[\"middle_01_l\",\"middle_02_l\",\"middle_03_l\",\"middle_end_l\"],\n",
    "    \"ring\":[\"ring_01_l\",\"ring_02_l\",\"ring_03_l\",\"ring_end_l\"],\n",
    "    \"pinky\":[\"pinky_01_l\",\"pinky_02_l\",\"pinky_03_l\",\"pinky_end_l\"]\n",
    "}\n"
   ]
  },
  {
   "cell_type": "code",
   "execution_count": null,
   "metadata": {},
   "outputs": [],
   "source": [
    "def getxyzOf(name,tsText):\n",
    "\n",
    "    #finding the first match of string in tsText\n",
    "    pattern=\"[\"+name+\":]\"\n",
    "    match=re.search(name,tsText)\n",
    "    if match:\n",
    "        index=match.end()\n",
    "\n",
    "        #finding the next \"\\n\"\n",
    "        match = re.search('[\\n]', tsText[index:]) \n",
    "        lineLength=match.start()\n",
    "\n",
    "        #slicing the line we need from the big string\n",
    "        line=tsText[index+1:index+lineLength]\n",
    "\n",
    "        #exctracting values from this line\n",
    "        values=line.split(\",\")\n",
    "\n",
    "        return values[0:3]"
   ]
  },
  {
   "cell_type": "code",
   "execution_count": 5,
   "metadata": {},
   "outputs": [],
   "source": [
    "def load_data(filename):\n",
    "\n",
    "    df=pd.DataFrame()\n",
    "    \n",
    "    #reading text from file\n",
    "    textFile=open(filename,\"r\")\n",
    "    text=textFile.read()\n",
    "    textFile.close()\n",
    "\n",
    "    #exctracting data for each timestamp\n",
    "    pattern=\"ts: [0-9]*\\.[0-9]*\"\n",
    "    rawData=re.split(pattern,text)[1:325] #324 first ts only\n",
    "\n",
    "    #going through attributeNames one by one and extracting x y z for each name \n",
    "    # + creating a new line in the data frame containing all the values\n",
    "    for i in range(len(rawData)):\n",
    "        docLine={}\n",
    "\n",
    "        for j in attributeNames.keys():\n",
    "            for k in range(len(attributeNames[j])):\n",
    "                name=attributeNames[j][k]\n",
    "                #print(name)\n",
    "                x,y,z=getxyzOf(name,rawData[i])\n",
    "                doc={name+\"_x\":x,\n",
    "                     name+\"_y\":y,\n",
    "                     name+\"_z\":z}\n",
    "                docLine.update(doc)\n",
    "\n",
    "        dfLine=pd.DataFrame(docLine,index=[0])\n",
    "        #print(dfLine)\n",
    "        df=pd.concat([df,dfLine],ignore_index=True)\n",
    "    \n",
    "    print(df.head(1))         \n",
    "    print(\"(lines,columns)\",df.shape)\n",
    "    return df       \n",
    "\n",
    "\n"
   ]
  },
  {
   "cell_type": "code",
   "execution_count": 6,
   "metadata": {},
   "outputs": [
    {
     "name": "stdout",
     "output_type": "stream",
     "text": [
      "     hand_l_x    hand_l_y     hand_l_z thumb_01_l_x thumb_01_l_y thumb_01_l_z  \\\n",
      "0   55.084961   84.742554   102.510841    53.607822    84.320145   101.585854   \n",
      "\n",
      "  thumb_02_l_x thumb_02_l_y thumb_02_l_z thumb_03_l_x  ... pinky_01_l_z  \\\n",
      "0    50.878002    84.067322    99.900742    49.454945  ...    98.880615   \n",
      "\n",
      "  pinky_02_l_x pinky_02_l_y pinky_02_l_z pinky_03_l_x pinky_03_l_y  \\\n",
      "0    53.845589    88.113541    97.044128    54.466854    87.245117   \n",
      "\n",
      "  pinky_03_l_z pinky_end_l_x pinky_end_l_y pinky_end_l_z  \n",
      "0    97.840019      54.60054     87.491211     99.217194  \n",
      "\n",
      "[1 rows x 63 columns]\n",
      "(lines,columns) (324, 63)\n"
     ]
    }
   ],
   "source": [
    "\n",
    "df=load_data(\"skeleton_poses.txt\")\n",
    "df.to_csv('hand_poses.csv')"
   ]
  },
  {
   "cell_type": "code",
   "execution_count": 7,
   "metadata": {},
   "outputs": [
    {
     "name": "stdout",
     "output_type": "stream",
     "text": [
      "<class 'pandas.core.frame.DataFrame'>\n",
      "RangeIndex: 324 entries, 0 to 323\n",
      "Data columns (total 63 columns):\n",
      " #   Column          Non-Null Count  Dtype \n",
      "---  ------          --------------  ----- \n",
      " 0   hand_l_x        324 non-null    object\n",
      " 1   hand_l_y        324 non-null    object\n",
      " 2   hand_l_z        324 non-null    object\n",
      " 3   thumb_01_l_x    324 non-null    object\n",
      " 4   thumb_01_l_y    324 non-null    object\n",
      " 5   thumb_01_l_z    324 non-null    object\n",
      " 6   thumb_02_l_x    324 non-null    object\n",
      " 7   thumb_02_l_y    324 non-null    object\n",
      " 8   thumb_02_l_z    324 non-null    object\n",
      " 9   thumb_03_l_x    324 non-null    object\n",
      " 10  thumb_03_l_y    324 non-null    object\n",
      " 11  thumb_03_l_z    324 non-null    object\n",
      " 12  thumb_end_l_x   324 non-null    object\n",
      " 13  thumb_end_l_y   324 non-null    object\n",
      " 14  thumb_end_l_z   324 non-null    object\n",
      " 15  index_01_l_x    324 non-null    object\n",
      " 16  index_01_l_y    324 non-null    object\n",
      " 17  index_01_l_z    324 non-null    object\n",
      " 18  index_02_l_x    324 non-null    object\n",
      " 19  index_02_l_y    324 non-null    object\n",
      " 20  index_02_l_z    324 non-null    object\n",
      " 21  index_03_l_x    324 non-null    object\n",
      " 22  index_03_l_y    324 non-null    object\n",
      " 23  index_03_l_z    324 non-null    object\n",
      " 24  index_end_l_x   324 non-null    object\n",
      " 25  index_end_l_y   324 non-null    object\n",
      " 26  index_end_l_z   324 non-null    object\n",
      " 27  middle_01_l_x   324 non-null    object\n",
      " 28  middle_01_l_y   324 non-null    object\n",
      " 29  middle_01_l_z   324 non-null    object\n",
      " 30  middle_02_l_x   324 non-null    object\n",
      " 31  middle_02_l_y   324 non-null    object\n",
      " 32  middle_02_l_z   324 non-null    object\n",
      " 33  middle_03_l_x   324 non-null    object\n",
      " 34  middle_03_l_y   324 non-null    object\n",
      " 35  middle_03_l_z   324 non-null    object\n",
      " 36  middle_end_l_x  324 non-null    object\n",
      " 37  middle_end_l_y  324 non-null    object\n",
      " 38  middle_end_l_z  324 non-null    object\n",
      " 39  ring_01_l_x     324 non-null    object\n",
      " 40  ring_01_l_y     324 non-null    object\n",
      " 41  ring_01_l_z     324 non-null    object\n",
      " 42  ring_02_l_x     324 non-null    object\n",
      " 43  ring_02_l_y     324 non-null    object\n",
      " 44  ring_02_l_z     324 non-null    object\n",
      " 45  ring_03_l_x     324 non-null    object\n",
      " 46  ring_03_l_y     324 non-null    object\n",
      " 47  ring_03_l_z     324 non-null    object\n",
      " 48  ring_end_l_x    324 non-null    object\n",
      " 49  ring_end_l_y    324 non-null    object\n",
      " 50  ring_end_l_z    324 non-null    object\n",
      " 51  pinky_01_l_x    324 non-null    object\n",
      " 52  pinky_01_l_y    324 non-null    object\n",
      " 53  pinky_01_l_z    324 non-null    object\n",
      " 54  pinky_02_l_x    324 non-null    object\n",
      " 55  pinky_02_l_y    324 non-null    object\n",
      " 56  pinky_02_l_z    324 non-null    object\n",
      " 57  pinky_03_l_x    324 non-null    object\n",
      " 58  pinky_03_l_y    324 non-null    object\n",
      " 59  pinky_03_l_z    324 non-null    object\n",
      " 60  pinky_end_l_x   324 non-null    object\n",
      " 61  pinky_end_l_y   324 non-null    object\n",
      " 62  pinky_end_l_z   324 non-null    object\n",
      "dtypes: object(63)\n",
      "memory usage: 159.6+ KB\n"
     ]
    }
   ],
   "source": [
    "df.info()\n"
   ]
  },
  {
   "cell_type": "code",
   "execution_count": 8,
   "metadata": {},
   "outputs": [
    {
     "name": "stdout",
     "output_type": "stream",
     "text": [
      "<class 'pandas.core.frame.DataFrame'>\n",
      "RangeIndex: 324 entries, 0 to 323\n",
      "Data columns (total 63 columns):\n",
      " #   Column          Non-Null Count  Dtype  \n",
      "---  ------          --------------  -----  \n",
      " 0   hand_l_x        324 non-null    float64\n",
      " 1   hand_l_y        324 non-null    float64\n",
      " 2   hand_l_z        324 non-null    float64\n",
      " 3   thumb_01_l_x    324 non-null    float64\n",
      " 4   thumb_01_l_y    324 non-null    float64\n",
      " 5   thumb_01_l_z    324 non-null    float64\n",
      " 6   thumb_02_l_x    324 non-null    float64\n",
      " 7   thumb_02_l_y    324 non-null    float64\n",
      " 8   thumb_02_l_z    324 non-null    float64\n",
      " 9   thumb_03_l_x    324 non-null    float64\n",
      " 10  thumb_03_l_y    324 non-null    float64\n",
      " 11  thumb_03_l_z    324 non-null    float64\n",
      " 12  thumb_end_l_x   324 non-null    float64\n",
      " 13  thumb_end_l_y   324 non-null    float64\n",
      " 14  thumb_end_l_z   324 non-null    float64\n",
      " 15  index_01_l_x    324 non-null    float64\n",
      " 16  index_01_l_y    324 non-null    float64\n",
      " 17  index_01_l_z    324 non-null    float64\n",
      " 18  index_02_l_x    324 non-null    float64\n",
      " 19  index_02_l_y    324 non-null    float64\n",
      " 20  index_02_l_z    324 non-null    float64\n",
      " 21  index_03_l_x    324 non-null    float64\n",
      " 22  index_03_l_y    324 non-null    float64\n",
      " 23  index_03_l_z    324 non-null    float64\n",
      " 24  index_end_l_x   324 non-null    float64\n",
      " 25  index_end_l_y   324 non-null    float64\n",
      " 26  index_end_l_z   324 non-null    float64\n",
      " 27  middle_01_l_x   324 non-null    float64\n",
      " 28  middle_01_l_y   324 non-null    float64\n",
      " 29  middle_01_l_z   324 non-null    float64\n",
      " 30  middle_02_l_x   324 non-null    float64\n",
      " 31  middle_02_l_y   324 non-null    float64\n",
      " 32  middle_02_l_z   324 non-null    float64\n",
      " 33  middle_03_l_x   324 non-null    float64\n",
      " 34  middle_03_l_y   324 non-null    float64\n",
      " 35  middle_03_l_z   324 non-null    float64\n",
      " 36  middle_end_l_x  324 non-null    float64\n",
      " 37  middle_end_l_y  324 non-null    float64\n",
      " 38  middle_end_l_z  324 non-null    float64\n",
      " 39  ring_01_l_x     324 non-null    float64\n",
      " 40  ring_01_l_y     324 non-null    float64\n",
      " 41  ring_01_l_z     324 non-null    float64\n",
      " 42  ring_02_l_x     324 non-null    float64\n",
      " 43  ring_02_l_y     324 non-null    float64\n",
      " 44  ring_02_l_z     324 non-null    float64\n",
      " 45  ring_03_l_x     324 non-null    float64\n",
      " 46  ring_03_l_y     324 non-null    float64\n",
      " 47  ring_03_l_z     324 non-null    float64\n",
      " 48  ring_end_l_x    324 non-null    float64\n",
      " 49  ring_end_l_y    324 non-null    float64\n",
      " 50  ring_end_l_z    324 non-null    float64\n",
      " 51  pinky_01_l_x    324 non-null    float64\n",
      " 52  pinky_01_l_y    324 non-null    float64\n",
      " 53  pinky_01_l_z    324 non-null    float64\n",
      " 54  pinky_02_l_x    324 non-null    float64\n",
      " 55  pinky_02_l_y    324 non-null    float64\n",
      " 56  pinky_02_l_z    324 non-null    float64\n",
      " 57  pinky_03_l_x    324 non-null    float64\n",
      " 58  pinky_03_l_y    324 non-null    float64\n",
      " 59  pinky_03_l_z    324 non-null    float64\n",
      " 60  pinky_end_l_x   324 non-null    float64\n",
      " 61  pinky_end_l_y   324 non-null    float64\n",
      " 62  pinky_end_l_z   324 non-null    float64\n",
      "dtypes: float64(63)\n",
      "memory usage: 159.6 KB\n"
     ]
    }
   ],
   "source": [
    "for i in df.columns:\n",
    "    df[i]=df[i].astype(float)\n",
    "df.info()"
   ]
  },
  {
   "cell_type": "code",
   "execution_count": null,
   "metadata": {},
   "outputs": [],
   "source": [
    "plt.hist(df['thumb_02_l_z'])\n",
    "plt.show()"
   ]
  },
  {
   "cell_type": "code",
   "execution_count": null,
   "metadata": {},
   "outputs": [],
   "source": [
    "df.plot.scatter(\"thumb_end_l_x\",\"thumb_end_l_y\",\"thumb_end_l_z\")"
   ]
  },
  {
   "cell_type": "markdown",
   "metadata": {},
   "source": [
    "###UMAP"
   ]
  },
  {
   "cell_type": "code",
   "execution_count": 9,
   "metadata": {},
   "outputs": [
    {
     "name": "stderr",
     "output_type": "stream",
     "text": [
      "/home/abdelaziz/.local/lib/python3.8/site-packages/tqdm/auto.py:22: TqdmWarning: IProgress not found. Please update jupyter and ipywidgets. See https://ipywidgets.readthedocs.io/en/stable/user_install.html\n",
      "  from .autonotebook import tqdm as notebook_tqdm\n"
     ]
    },
    {
     "data": {
      "text/plain": [
       "(324, 2)"
      ]
     },
     "execution_count": 9,
     "metadata": {},
     "output_type": "execute_result"
    }
   ],
   "source": [
    "import umap\n",
    "\n",
    "reducer = umap.UMAP()\n",
    "embedding = reducer.fit_transform(df)\n",
    "embedding.shape"
   ]
  },
  {
   "cell_type": "code",
   "execution_count": 46,
   "metadata": {},
   "outputs": [
    {
     "data": {
      "text/plain": [
       "<matplotlib.collections.PathCollection at 0x7f7344281220>"
      ]
     },
     "execution_count": 46,
     "metadata": {},
     "output_type": "execute_result"
    },
    {
     "data": {
      "image/png": "[encoded data removed]",
      "text/plain": [
       "<Figure size 640x480 with 1 Axes>"
      ]
     },
     "metadata": {},
     "output_type": "display_data"
    }
   ],
   "source": [
    "\n",
    "plt.scatter(embedding[:, 0],embedding[:, 1],c=[i for i in range(324)],s=[324-i for i in range(324)])\n",
    "redpoint=3\n",
    "plt.scatter(embedding[redpoint, 0],embedding[redpoint, 1],c=[\"red\"])"
   ]
  }
 ],
 "metadata": {
  "kernelspec": {
   "display_name": "Python 3.8.10 64-bit",
   "language": "python",
   "name": "python3"
  },
  "language_info": {
   "codemirror_mode": {
    "name": "ipython",
    "version": 3
   },
   "file_extension": ".py",
   "mimetype": "text/x-python",
   "name": "python",
   "nbconvert_exporter": "python",
   "pygments_lexer": "ipython3",
   "version": "3.8.10"
  },
  "orig_nbformat": 4,
  "vscode": {
   "interpreter": {
    "hash": "916dbcbb3f70747c44a77c7bcd40155683ae19c65e1c03b4aa3499c5328201f1"
   }
  }
 },
 "nbformat": 4,
 "nbformat_minor": 2
}
