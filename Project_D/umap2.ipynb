{
 "cells": [
  {
   "cell_type": "code",
   "execution_count": 17,
   "metadata": {},
   "outputs": [],
   "source": [
    "import re\n",
    "import numpy as np\n",
    "from sklearn.datasets import load_digits\n",
    "from sklearn.model_selection import train_test_split\n",
    "from sklearn.preprocessing import StandardScaler\n",
    "import matplotlib.pyplot as plt\n",
    "import seaborn as sns\n",
    "import pandas as pd\n",
    "plt.style.use(\"default\")"
   ]
  },
  {
   "cell_type": "code",
   "execution_count": 18,
   "metadata": {},
   "outputs": [],
   "source": [
    "attributeNames={\n",
    "    \"thumb\":[\"hand_l\",\"thumb_01_l\",\"thumb_02_l\",\"thumb_03_l\",\"thumb_end_l\"],\n",
    "    \"index\":[\"DAZ_lCarpal1\",\"index_01_l\",\"index_02_l\",\"index_03_l\",\"index_end_l\"],\n",
    "    \"middle\":[\"DAZ_lCarpal2\",\"middle_01_l\",\"middle_02_l\",\"middle_03_l\",\"middle_end_l\"],\n",
    "    \"ring\":[\"DAZ_lCarpal3\",\"ring_01_l\",\"ring_02_l\",\"ring_03_l\",\"ring_end_l\"],\n",
    "    \"pinky\":[\"DAZ_lCarpal4\",\"pinky_01_l\",\"pinky_02_l\",\"pinky_03_l\",\"pinky_end_l\"]\n",
    "}"
   ]
  },
  {
   "cell_type": "code",
   "execution_count": 19,
   "metadata": {},
   "outputs": [],
   "source": [
    "def getxyzOf(name,tsText):\n",
    "\n",
    "    #finding the first match of string in tsText\n",
    "    pattern=\"[\"+name+\":]\"\n",
    "    match=re.search(name,tsText)\n",
    "    if match:\n",
    "        index=match.end()\n",
    "\n",
    "        #finding the next \"\\n\"\n",
    "        match = re.search('[\\n]', tsText[index:]) \n",
    "        lineLength=match.start()\n",
    "\n",
    "        #slicing the line we need from the big string\n",
    "        line=tsText[index+1:index+lineLength]\n",
    "\n",
    "        #exctracting values from this line\n",
    "        values=line.split(\",\")\n",
    "\n",
    "        return values[0:3]"
   ]
  },
  {
   "cell_type": "code",
   "execution_count": 20,
   "metadata": {},
   "outputs": [],
   "source": [
    "def load_data(filename):\n",
    "\n",
    "    df=pd.DataFrame()\n",
    "    \n",
    "    #reading text from file\n",
    "    textFile=open(filename,\"r\")\n",
    "    text=textFile.read()\n",
    "    textFile.close()\n",
    "\n",
    "    #exctracting data for each timestamp\n",
    "    pattern=\"ts: [0-9]*\\.[0-9]*\"\n",
    "    rawData=re.split(pattern,text)[1:325] #324 first ts only\n",
    "\n",
    "    #going through attributeNames one by one and extracting x y z for each name \n",
    "    # + creating a new line in the data frame containing all the values\n",
    "    for i in range(len(rawData)):\n",
    "        docLine={}\n",
    "\n",
    "        for j in attributeNames.keys():\n",
    "            for k in range(len(attributeNames[j])):\n",
    "                name=attributeNames[j][k]\n",
    "                #print(name)\n",
    "                x,y,z=getxyzOf(name,rawData[i])\n",
    "                doc={name+\"_x\":x,\n",
    "                     name+\"_y\":y,\n",
    "                     name+\"_z\":z}\n",
    "                docLine.update(doc)\n",
    "\n",
    "        dfLine=pd.DataFrame(docLine,index=[0])\n",
    "        #print(dfLine)\n",
    "        df=pd.concat([df,dfLine],ignore_index=True)\n",
    "    \n",
    "    print(df.head(1))         \n",
    "    print(\"(lines,columns)\",df.shape)\n",
    "    return df   "
   ]
  },
  {
   "cell_type": "code",
   "execution_count": 21,
   "metadata": {},
   "outputs": [
    {
     "name": "stdout",
     "output_type": "stream",
     "text": [
      "     hand_l_x    hand_l_y     hand_l_z thumb_01_l_x thumb_01_l_y thumb_01_l_z  \\\n",
      "0   55.084961   84.742554   102.510841    53.607822    84.320145   101.585854   \n",
      "\n",
      "  thumb_02_l_x thumb_02_l_y thumb_02_l_z thumb_03_l_x  ... pinky_01_l_z  \\\n",
      "0    50.878002    84.067322    99.900742    49.454945  ...    98.880615   \n",
      "\n",
      "  pinky_02_l_x pinky_02_l_y pinky_02_l_z pinky_03_l_x pinky_03_l_y  \\\n",
      "0    53.845589    88.113541    97.044128    54.466854    87.245117   \n",
      "\n",
      "  pinky_03_l_z pinky_end_l_x pinky_end_l_y pinky_end_l_z  \n",
      "0    97.840019      54.60054     87.491211     99.217194  \n",
      "\n",
      "[1 rows x 75 columns]\n",
      "(lines,columns) (324, 75)\n"
     ]
    }
   ],
   "source": [
    "\n",
    "df=load_data(\"skeleton_poses2.txt\")\n",
    "df.to_csv('hand_poses.csv')"
   ]
  },
  {
   "cell_type": "code",
   "execution_count": 22,
   "metadata": {},
   "outputs": [
    {
     "name": "stdout",
     "output_type": "stream",
     "text": [
      "     hand_l_x    hand_l_y     hand_l_z thumb_01_l_x thumb_01_l_y thumb_01_l_z  \\\n",
      "0   55.084961   84.742554   102.510841    53.607822    84.320145   101.585854   \n",
      "1   55.079865   84.785759   102.543304    53.687061    84.208466   101.572327   \n",
      "2    55.07988   84.785645   102.543213    53.783264    84.550308   101.326927   \n",
      "3   55.084763   84.744026   102.511963    53.609947     84.30632   101.590385   \n",
      "4    55.11182    84.59877   102.398109    53.783344    84.136963   101.285522   \n",
      "\n",
      "  thumb_02_l_x thumb_02_l_y thumb_02_l_z thumb_03_l_x  ... pinky_01_l_z  \\\n",
      "0    50.878002    84.067322    99.900742    49.454945  ...    98.880615   \n",
      "1    51.888405     83.18428     99.10833    52.327354  ...    98.096886   \n",
      "2    51.422272    84.192841    99.169754    50.578468  ...    98.398682   \n",
      "3    50.691193    83.037979   101.113274    48.492847  ...    98.847084   \n",
      "4    51.059326    82.701523   100.350296    49.022865  ...     99.07444   \n",
      "\n",
      "  pinky_02_l_x pinky_02_l_y pinky_02_l_z pinky_03_l_x pinky_03_l_y  \\\n",
      "0    53.845589    88.113541    97.044128    54.466854    87.245117   \n",
      "1    54.997219    87.358688    96.643532    55.736088    86.596519   \n",
      "2    55.830635    88.060699    96.508072    55.990032     87.13974   \n",
      "3    53.716316    88.377731    96.838287    54.396881    87.432259   \n",
      "4    54.020302    88.394272    97.147659    54.701031    87.433357   \n",
      "\n",
      "  pinky_03_l_z pinky_end_l_x pinky_end_l_y pinky_end_l_z  \n",
      "0    97.840019      54.60054     87.491211     99.217194  \n",
      "1    97.447769     55.214077     87.267433     98.566887  \n",
      "2    97.456772     55.840511     87.196198      98.85302  \n",
      "3    97.483665     54.237942     88.063232     98.729324  \n",
      "4     97.76963     54.418716     87.954849     99.043755  \n",
      "\n",
      "[5 rows x 75 columns]\n"
     ]
    }
   ],
   "source": [
    "print(df.head(5))"
   ]
  },
  {
   "cell_type": "code",
   "execution_count": 25,
   "metadata": {},
   "outputs": [
    {
     "name": "stdout",
     "output_type": "stream",
     "text": [
      "120.52106374124477\n"
     ]
    }
   ],
   "source": [
    "a = np.array([32.49, -39.96,-3.86])\n",
    "b = np.array([31.39, -39.28, -4.66])\n",
    "c = np.array([31.14, -38.09,-4.49])\n",
    "\n",
    "ba = a - b\n",
    "bc = c - b\n",
    "\n",
    "cosine_angle = np.dot(ba, bc) / (np.linalg.norm(ba) * np.linalg.norm(bc))\n",
    "angle = np.arccos(cosine_angle)\n",
    "\n",
    "print(np.degrees(angle))"
   ]
  },
  {
   "cell_type": "code",
   "execution_count": 26,
   "metadata": {},
   "outputs": [],
   "source": [
    "def comp_angle(x1,y1,z1,x2,y2,z2,x3,y3,z3):\n",
    "    a = np.array([x1, y1,z1])\n",
    "    b = np.array([x2, y2, z2])\n",
    "    c = np.array([x3,y3,z3])\n",
    "\n",
    "    ba = a - b\n",
    "    bc = c - b\n",
    "\n",
    "    cosine_angle = np.dot(ba, bc) / (np.linalg.norm(ba) * np.linalg.norm(bc))\n",
    "    angle = np.arccos(cosine_angle)\n",
    "\n",
    "    return(np.degrees(angle))\n"
   ]
  },
  {
   "cell_type": "code",
   "execution_count": null,
   "metadata": {},
   "outputs": [],
   "source": [
    "df[\"angle_\"]"
   ]
  }
 ],
 "metadata": {
  "kernelspec": {
   "display_name": "Python 3.10.6 64-bit",
   "language": "python",
   "name": "python3"
  },
  "language_info": {
   "codemirror_mode": {
    "name": "ipython",
    "version": 3
   },
   "file_extension": ".py",
   "mimetype": "text/x-python",
   "name": "python",
   "nbconvert_exporter": "python",
   "pygments_lexer": "ipython3",
   "version": "3.10.6"
  },
  "orig_nbformat": 4,
  "vscode": {
   "interpreter": {
    "hash": "916dbcbb3f70747c44a77c7bcd40155683ae19c65e1c03b4aa3499c5328201f1"
   }
  }
 },
 "nbformat": 4,
 "nbformat_minor": 2
}
