{
 "cells": [
  {
   "cell_type": "code",
   "execution_count": 1,
   "metadata": {},
   "outputs": [
    {
     "name": "stdout",
     "output_type": "stream",
     "text": [
      "Jupyter environment detected. Enabling Open3D WebVisualizer.\n",
      "[Open3D INFO] WebRTC GUI backend enabled.\n",
      "[Open3D INFO] WebRTCWindowSystem: HTTP handshake server disabled.\n"
     ]
    }
   ],
   "source": [
    "import re\n",
    "import pandas as pd\n",
    "import os\n",
    "import open3d as o3d\n",
    "import string"
   ]
  },
  {
   "cell_type": "markdown",
   "metadata": {},
   "source": [
    "Hey this is my work of the week I played a bit with with the data and tried to put it in a dataframe.My goal for next week is to visualise it and to associate angles to each part of the hand to see the distribution of the values."
   ]
  },
  {
   "cell_type": "markdown",
   "metadata": {},
   "source": [
    "Enter the name of the file"
   ]
  },
  {
   "cell_type": "code",
   "execution_count": 2,
   "metadata": {},
   "outputs": [],
   "source": [
    "file=\"skeleton_poses.txt\"\n",
    "f=open(file,\"r\")"
   ]
  },
  {
   "cell_type": "markdown",
   "metadata": {},
   "source": [
    "Create dataframe with colums "
   ]
  },
  {
   "cell_type": "code",
   "execution_count": 3,
   "metadata": {},
   "outputs": [],
   "source": [
    "col=[\"x\",\"y\",\"z\",\"qx\",\"qy\",\"qz\",\"qw\",\"roll\",\"pitch\",\"yaw\",\"px\",\"py\",\"pz\",\"pqx\",\"pqy\",\"pqz\",\"pqw\",\"proll\",\"ppitch\",\"pyaw\",\"bdpart\"]\n",
    "df=pd.DataFrame(columns=col)"
   ]
  },
  {
   "cell_type": "code",
   "execution_count": 104,
   "metadata": {},
   "outputs": [
    {
     "data": {
      "text/html": [
       "<div>\n",
       "<style scoped>\n",
       "    .dataframe tbody tr th:only-of-type {\n",
       "        vertical-align: middle;\n",
       "    }\n",
       "\n",
       "    .dataframe tbody tr th {\n",
       "        vertical-align: top;\n",
       "    }\n",
       "\n",
       "    .dataframe thead th {\n",
       "        text-align: right;\n",
       "    }\n",
       "</style>\n",
       "<table border=\"1\" class=\"dataframe\">\n",
       "  <thead>\n",
       "    <tr style=\"text-align: right;\">\n",
       "      <th></th>\n",
       "      <th>x</th>\n",
       "      <th>y</th>\n",
       "      <th>z</th>\n",
       "      <th>qx</th>\n",
       "      <th>qy</th>\n",
       "      <th>qz</th>\n",
       "      <th>qw</th>\n",
       "      <th>roll</th>\n",
       "      <th>pitch</th>\n",
       "      <th>yaw</th>\n",
       "      <th>px</th>\n",
       "      <th>py</th>\n",
       "      <th>pz</th>\n",
       "      <th>pqx</th>\n",
       "      <th>pqy</th>\n",
       "      <th>pqz</th>\n",
       "      <th>pqw</th>\n",
       "      <th>proll</th>\n",
       "      <th>ppitch</th>\n",
       "      <th>pyaw</th>\n",
       "    </tr>\n",
       "  </thead>\n",
       "  <tbody>\n",
       "  </tbody>\n",
       "</table>\n",
       "</div>"
      ],
      "text/plain": [
       "Empty DataFrame\n",
       "Columns: [x, y, z, qx, qy, qz, qw, roll, pitch, yaw, px, py, pz, pqx, pqy, pqz, pqw, proll, ppitch, pyaw]\n",
       "Index: []"
      ]
     },
     "execution_count": 104,
     "metadata": {},
     "output_type": "execute_result"
    }
   ],
   "source": [
    "df.head()"
   ]
  },
  {
   "cell_type": "code",
   "execution_count": 145,
   "metadata": {},
   "outputs": [
    {
     "name": "stdout",
     "output_type": "stream",
     "text": [
      "[-98.47612, 76.91658, 90.149994, 0.0, 0.0, 0.421425, 0.906863, 0.0, 0.0, 49.84915, nan, nan, nan, nan, nan, nan, nan, nan, nan, nan, 'actor=rp_michelle_rigged_005_ue4']\n",
      "[79.410904, -76.364578, 0.854454, 0.0, 0.0, 0.906863, -0.421425, 0.0, 0.0, -130.150803, 2.458527, 234.803772, 0.704461, 0.0, 0.0, -0.0, 1.0, 0.0, 0.0, -0.0, 'Root']\n",
      "[78.603607, -75.683563, 97.605057, 0.619479, 0.307125, 0.592522, -0.413324, 73.514626, 81.112907, -45.028126, 1.3e-05, -1.056176, 96.750603, 0.017457, -0.691213, 0.125125, 0.711522, 73.514458, 81.112755, 85.1223, 'Pelvis']\n",
      "[79.890793, -76.972015, 109.252762, -0.561808, -0.328535, -0.530668, 0.54298, 59.681355, 72.372139, -43.156845, 11.789228, -1.3e-05, 9e-06, 0.135838, 0.026826, 0.071414, 0.98779, -15.803817, -1.925218, 8.53741, 'spine_01']\n",
      "[82.168182, -79.107407, 119.077797, 0.534186, 0.407671, 0.556212, -0.488956, 35.40823, 83.171875, -65.731102, 10.309105, -8e-06, 6e-06, 0.01825, -0.031709, -0.096072, 0.994702, -2.434373, 3.415422, -11.10607, 'spine_02']\n",
      "[82.678497, -80.239258, 129.446945, 0.539715, 0.431857, 0.530222, -0.49099, 58.341431, 85.14537, -40.101017, 10.443213, 2e-06, 1e-05, 0.022431, -0.027955, 0.003174, 0.999353, -2.56347, 3.211186, 0.29207, 'spine_03']\n",
      "[83.399002, -80.846008, 140.537842, 0.592509, 0.38337, 0.513238, -0.488413, 88.787506, 79.321274, -14.707058, 11.130821, 2.6e-05, -1.6e-05, -0.045686, -0.014466, 0.055941, 0.997283, 5.322899, 1.360423, 6.48432, 'neck_01']\n",
      "[85.042358, -81.277328, 149.548172, 0.60406, 0.353384, 0.680214, -0.218036, -84.621361, 77.390579, 143.350571, 9.169114, -1.7e-05, 2.7e-05, -0.245246, 0.003998, -0.198126, 0.948991, 27.965654, 5.140106, -22.3043, 'head']\n",
      "[82.057281, -79.056442, 166.180511, 0.60406, 0.353384, 0.680214, -0.218036, -84.621361, 77.390579, 143.350571, 17.0434, -6e-06, -1.1e-05, 0.0, 0.0, -0.0, 1.0, 0.0, 0.0, -0.0, 'head_end']\n",
      "[86.755035, -82.9888, 153.233978, -0.579793, 0.394353, -0.083141, 0.708105, 88.924164, -27.521214, -40.42149, 3.073924, 3.161575, -0.054681, 0.003696, -0.007945, 0.906638, 0.421818, 0.646819, 0.768089, 130.10342, 'jaw']\n",
      "[92.051285, -87.49968, 149.609161, -0.579793, 0.394353, -0.083141, 0.708105, 88.924171, -27.5212, -40.421509, 7.844588, 1e-05, 8e-06, -0.0, 0.0, -0.0, 1.0, 3e-06, -7e-06, -1e-05, 'jaw_end']\n",
      "[87.486252, -87.771759, 157.363144, -0.677014, 0.177255, -0.32681, 0.635159, 88.798721, 12.552896, -42.16024, 6.352171, 7.721683, -3.041293, -1e-06, 1e-06, 0.707106, 0.707107, 1e-06, -0.000184, 89.99994, 'eye_l']\n",
      "[88.3293, -88.535095, 157.616348, -0.677015, 0.177255, -0.326808, 0.63516, 88.798759, 12.552732, -42.160057, 1.165128, 2.7e-05, 2e-05, -0.0, -2e-06, 1e-06, 1.0, 4e-06, 0.000178, 0.00017, 'eye_end_l']\n",
      "[91.053009, -83.353989, 157.364227, -0.677014, 0.177255, -0.32681, 0.635159, 88.798721, 12.552896, -42.16021, 6.304203, 7.408316, 2.62774, -1e-06, 1e-06, 0.707106, 0.707107, -4e-06, -0.00015, 89.99994, 'eye_r']\n",
      "[91.89978, -84.120743, 157.618576, -0.677015, 0.177253, -0.32681, 0.635159, 88.798759, 12.553047, -42.160072, 1.17031, 7e-06, -1.5e-05, -0.0, -1e-06, -1e-06, 1.0, 4e-06, 0.000137, -0.00014, 'eye_end_r']\n",
      "[90.007401, -89.088303, 152.178391, -0.750544, -0.079303, -0.04285, 0.654643, 98.118706, 9.680427, 3.660695, 0.679348, 9.281553, -2.4438, 0.270598, -0.270598, 0.653281, 0.653282, 0.0, 44.999947, 89.99993, 'mouth_l']\n",
      "[92.842499, -85.247162, 152.181641, -0.500416, 0.406826, -0.561015, 0.518978, 80.223419, 8.002372, -87.713425, 0.6865, 8.817045, 2.307655, -0.270598, 0.270598, 0.653281, 0.653282, 2e-06, -44.999958, 89.99994, 'mouth_r']\n",
      "[87.486252, -87.771759, 157.363144, -0.693679, 0.09323, -0.401307, 0.590822, 88.704079, 26.525196, -42.419228, 6.352171, 7.721683, -3.041293, 0.000412, -0.000322, 0.615838, 0.787873, -0.014477, 0.05818, 76.0256, 'eyelid_l']\n"
     ]
    }
   ],
   "source": [
    "\n",
    "from numpy import NaN\n",
    "\n",
    "\n",
    "for row in f:\n",
    "    str=\": \"  \n",
    "    coordinates=row.partition(str)[2]\n",
    "    bdpart=row.partition(str)[0]\n",
    "    data=coordinates[:-2]\n",
    "    li=list(data.split(\", \"))\n",
    "    li=[float(x) for x in li]\n",
    "    \n",
    "    while(len(li)!=20):\n",
    "        li.append(NaN)\n",
    "    li.append(bdpart)\n",
    "    print(li)\n",
    "    df.loc[len(df)]=li\n",
    "    \n"
   ]
  },
  {
   "cell_type": "code",
   "execution_count": 134,
   "metadata": {},
   "outputs": [
    {
     "name": "stdout",
     "output_type": "stream",
     "text": [
      "           x           y           z         qx         qy         qz  \\\n",
      "0  -98.47612    76.91658   90.149994        0.0        0.0   0.421425   \n",
      "1  79.410904  -76.364578    0.854454        0.0        0.0   0.906863   \n",
      "2  78.603607  -75.683563   97.605057   0.619479   0.307125   0.592522   \n",
      "3  79.890793  -76.972015  109.252762  -0.561808  -0.328535  -0.530668   \n",
      "4  82.168182  -79.107407  119.077797   0.534186   0.407671   0.556212   \n",
      "\n",
      "          qw       roll      pitch          yaw         px          py  \\\n",
      "0   0.906863        0.0        0.0     49.84915        NaN         NaN   \n",
      "1  -0.421425        0.0        0.0  -130.150803   2.458527  234.803772   \n",
      "2  -0.413324  73.514626  81.112907   -45.028126   0.000013   -1.056176   \n",
      "3    0.54298  59.681355  72.372139   -43.156845  11.789228   -0.000013   \n",
      "4  -0.488956   35.40823  83.171875   -65.731102  10.309105   -0.000008   \n",
      "\n",
      "          pz       pqx        pqy        pqz       pqw       proll     ppitch  \\\n",
      "0        NaN       NaN        NaN        NaN       NaN         NaN        NaN   \n",
      "1   0.704461       0.0        0.0       -0.0       1.0         0.0        0.0   \n",
      "2  96.750603  0.017457  -0.691213   0.125125  0.711522   73.514458  81.112755   \n",
      "3   0.000009  0.135838   0.026826   0.071414   0.98779  -15.803817  -1.925218   \n",
      "4   0.000006   0.01825  -0.031709  -0.096072  0.994702   -2.434373   3.415422   \n",
      "\n",
      "        pyaw  \n",
      "0        NaN  \n",
      "1   -0.00000  \n",
      "2    85.1223  \n",
      "3    8.53741  \n",
      "4  -11.10607  \n"
     ]
    }
   ],
   "source": [
    "print(df.head())"
   ]
  },
  {
   "cell_type": "code",
   "execution_count": 137,
   "metadata": {},
   "outputs": [],
   "source": [
    "df=df.astype(float)"
   ]
  }
 ],
 "metadata": {
  "kernelspec": {
   "display_name": "Python 3.9.12 ('base')",
   "language": "python",
   "name": "python3"
  },
  "language_info": {
   "codemirror_mode": {
    "name": "ipython",
    "version": 3
   },
   "file_extension": ".py",
   "mimetype": "text/x-python",
   "name": "python",
   "nbconvert_exporter": "python",
   "pygments_lexer": "ipython3",
   "version": "3.9.12"
  },
  "orig_nbformat": 4,
  "vscode": {
   "interpreter": {
    "hash": "42b6afb8615d4ec8871fa12c4f1edb2bab74713ad8c8213e5d466f133f482795"
   }
  }
 },
 "nbformat": 4,
 "nbformat_minor": 2
}
